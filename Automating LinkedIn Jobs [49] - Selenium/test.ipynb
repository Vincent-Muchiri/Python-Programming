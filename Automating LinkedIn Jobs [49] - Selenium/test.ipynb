{
 "cells": [
  {
   "cell_type": "code",
   "execution_count": 4,
   "outputs": [],
   "source": [
    "from selenium import webdriver\n",
    "from selenium.webdriver.common.by import By\n",
    "from selenium.webdriver.common.keys import Keys\n",
    "from selenium.common.exceptions import NoSuchElementException, ElementClickInterceptedException\n",
    "from time import sleep"
   ],
   "metadata": {
    "collapsed": false,
    "pycharm": {
     "name": "#%%\n"
    }
   }
  },
  {
   "cell_type": "code",
   "execution_count": 5,
   "metadata": {
    "collapsed": true,
    "pycharm": {
     "name": "#%%\n"
    }
   },
   "outputs": [
    {
     "name": "stdout",
     "output_type": "stream",
     "text": [
      "Global Graduate Trainee 2023 - Kenya\n",
      "Pricing Manager Graduate\n",
      "Kenya Engineering Graduates\n",
      "GRADUATE SOFTWARE ENGINEER - Dubai, UAE\n"
     ]
    }
   ],
   "source": [
    "title_list = ['Global Graduate Trainee 2023 - Kenya', 'Pricing Manager Graduate', 'Kenya Engineering Graduates', 'GRADUATE SOFTWARE ENGINEER - Dubai, UAE', 'Snr Registr&Identity Mgmt Off', 'Application Specialist', 'Kubernetes and container ops lead']\n",
    "\n",
    "for title in title_list:\n",
    "    if \"graduate\" in title.lower() or \"engineer\" in title.lower():\n",
    "        print(title)"
   ]
  },
  {
   "cell_type": "code",
   "execution_count": 6,
   "outputs": [
    {
     "name": "stdout",
     "output_type": "stream",
     "text": [
      "graduate%20trainee\n",
      "['graduate', 'trainee']\n"
     ]
    }
   ],
   "source": [
    "str1 = \"Graduate, trainee\"\n",
    "str1 = str1.lower()\n",
    "str1 = str1.replace(\" \", \"\").replace(\",\", \"%20\").lower()\n",
    "print(str1)\n",
    "\n",
    "str1_lst = str1.split(\"%20\")\n",
    "print(str1_lst)"
   ],
   "metadata": {
    "collapsed": false,
    "pycharm": {
     "name": "#%%\n"
    }
   }
  },
  {
   "cell_type": "code",
   "execution_count": 7,
   "outputs": [
    {
     "name": "stdout",
     "output_type": "stream",
     "text": [
      "['engineering', 'graduate', 'intern']\n"
     ]
    }
   ],
   "source": [
    "str1 = \"Engineering graduate, engineering intern\"\n",
    "e = []\n",
    "q = str1.split(\",\")\n",
    "for i in q:\n",
    "    w = i.split(\" \")\n",
    "    for d in w:\n",
    "        if d != \"\" and d.lower() not in e:\n",
    "            e.append(d.lower())\n",
    "\n",
    "print(e)"
   ],
   "metadata": {
    "collapsed": false,
    "pycharm": {
     "name": "#%%\n"
    }
   }
  },
  {
   "cell_type": "code",
   "execution_count": 8,
   "outputs": [
    {
     "name": "stdout",
     "output_type": "stream",
     "text": [
      "(['engineering', 'graduate', 'trainee'], 'engineering%20graduate%2C%20engineering%20trainee%2C%20graduate%20trainee')\n"
     ]
    }
   ],
   "source": [
    "query_str = \"Engineering graduate, engineering trainee, graduate trainee\"\n",
    "keyword_list = []\n",
    "query_str = query_str.lower()\n",
    "search_str = query_str.replace(\" \", \"%20\").replace(\",\", \"%2C\")\n",
    "query_list = query_str.split(\",\")\n",
    "for keyword_str in query_list:\n",
    "    key_list = keyword_str.strip(\" \").split(\" \")\n",
    "    # print(key_list)\n",
    "    for key in key_list:\n",
    "        if key not in keyword_list:\n",
    "            keyword_list.append(key)\n",
    "\n",
    "keyword_tuple = (keyword_list, search_str)\n",
    "print(keyword_tuple)"
   ],
   "metadata": {
    "collapsed": false,
    "pycharm": {
     "name": "#%%\n"
    }
   }
  },
  {
   "cell_type": "markdown",
   "source": [
    "# Filter the results"
   ],
   "metadata": {
    "collapsed": false,
    "pycharm": {
     "name": "#%% md\n"
    }
   }
  },
  {
   "cell_type": "code",
   "execution_count": 9,
   "outputs": [],
   "source": [
    "def filter_results(chrome_driver):\n",
    "    # TODO Filter the results with Easy Apply option only\n",
    "    # To do this, you can either maximize the screen or minimize the messages\n",
    "\n",
    "    # TODO Minimize the messages\n",
    "    icon_lst = chrome_driver.find_elements(By.TAG_NAME, \"li-icon\")\n",
    "    for icon in icon_lst:\n",
    "        icon_type = icon.get_attribute(\"type\")\n",
    "        if icon_type == \"chevron-down\":\n",
    "            icon.click()\n",
    "            break\n",
    "\n",
    "    sleep(0.5)\n",
    "\n",
    "    # TODO Open the filters\n",
    "    all_filters_btn = chrome_driver.find_element(By.XPATH, '/html/body/div[5]/div[3]/div[4]/section/div/section/div/div/div/div/div/button')\n",
    "    all_filters_btn.click()\n",
    "\n",
    "    sleep(2)\n",
    "\n",
    "    # TODO Click the Easy Apply switch button\n",
    "    easy_apply_switch_btn = chrome_driver.find_element(By.XPATH, \"/html/body/div[3]/div/div/div[2]/ul/li[8]/fieldset/div/div\")\n",
    "    easy_apply_switch_btn.click()\n",
    "    sleep(2)\n",
    "\n",
    "    # Selecting all the input types and clicking them doesn't work\n",
    "    # switch_btn_lst = chrome_driver.find_elements(By.CLASS_NAME, \"input\")\n",
    "    #\n",
    "    # for switch_btn in switch_btn_lst:\n",
    "    #     try:\n",
    "    #         print(switch_btn)\n",
    "    #         switch_btn.click()\n",
    "    #     except ElementClickInterceptedException:\n",
    "    #         print(\"Couldn't click the switch button\")\n",
    "    #     else:\n",
    "    #         print(\"Switch clicked\")\n",
    "    #     finally:\n",
    "    #         print(\"\\n\\n\")\n",
    "    #     sleep(3)\n",
    "\n",
    "    # This doesn't work either\n",
    "    # switch_btn_lst = chrome_driver.find_elements(By.TAG_NAME, 'input')\n",
    "    # for switch_btn in switch_btn_lst:\n",
    "    #     att_role = switch_btn.get_attribute('role')\n",
    "    #     if att_role == \"switch\":\n",
    "    #         print(att_role)\n",
    "    #         try:\n",
    "    #             switch_btn.click()\n",
    "    #         except ElementClickInterceptedException:\n",
    "    #             print(\"Couldn't click the switch button\")\n",
    "    #         else:\n",
    "    #             print(\"Switch button clicked\")\n",
    "    #         finally:\n",
    "    #             sleep(2)\n",
    "\n",
    "    # TODO Close the filters windows\n",
    "    filter_icon_lst = chrome_driver.find_elements(By.TAG_NAME, \"li-icon\")\n",
    "    for icon in filter_icon_lst:\n",
    "        icon_type = icon.get_attribute(\"type\")\n",
    "        if icon_type == \"cancel-icon\":\n",
    "            icon.click()\n",
    "            break\n",
    "\n"
   ],
   "metadata": {
    "collapsed": false,
    "pycharm": {
     "name": "#%%\n"
    }
   }
  },
  {
   "cell_type": "code",
   "execution_count": 12,
   "outputs": [
    {
     "name": "stderr",
     "output_type": "stream",
     "text": [
      "C:\\Users\\Vin Muchiri\\AppData\\Local\\Temp\\ipykernel_13560\\3125068370.py:4: DeprecationWarning: executable_path has been deprecated, please pass in a Service object\n",
      "  chrome_driver = webdriver.Chrome(executable_path=webdriver_path)\n"
     ]
    },
    {
     "ename": "NoSuchElementException",
     "evalue": "Message: no such element: Unable to locate element: {\"method\":\"xpath\",\"selector\":\"/html/body/div[3]/div/div/div[2]/ul/li[8]/fieldset/div/div\"}\n  (Session info: chrome=109.0.5414.75)\nStacktrace:\nBacktrace:\n\t(No symbol) [0x0099F243]\n\t(No symbol) [0x00927FD1]\n\t(No symbol) [0x0081D04D]\n\t(No symbol) [0x0084C0B0]\n\t(No symbol) [0x0084C22B]\n\t(No symbol) [0x0087E612]\n\t(No symbol) [0x008685D4]\n\t(No symbol) [0x0087C9EB]\n\t(No symbol) [0x00868386]\n\t(No symbol) [0x0084163C]\n\t(No symbol) [0x0084269D]\n\tGetHandleVerifier [0x00C39A22+2655074]\n\tGetHandleVerifier [0x00C2CA24+2601828]\n\tGetHandleVerifier [0x00A48C0A+619850]\n\tGetHandleVerifier [0x00A47830+614768]\n\t(No symbol) [0x009305FC]\n\t(No symbol) [0x00935968]\n\t(No symbol) [0x00935A55]\n\t(No symbol) [0x0094051B]\n\tBaseThreadInitThunk [0x76486939+25]\n\tRtlGetFullPathName_UEx [0x77778FD2+1218]\n\tRtlGetFullPathName_UEx [0x77778F9D+1165]\n",
     "output_type": "error",
     "traceback": [
      "\u001B[1;31m---------------------------------------------------------------------------\u001B[0m",
      "\u001B[1;31mNoSuchElementException\u001B[0m                    Traceback (most recent call last)",
      "Input \u001B[1;32mIn [12]\u001B[0m, in \u001B[0;36m<cell line: 31>\u001B[1;34m()\u001B[0m\n\u001B[0;32m     28\u001B[0m signin_btn \u001B[38;5;241m=\u001B[39m chrome_driver\u001B[38;5;241m.\u001B[39mfind_element(By\u001B[38;5;241m.\u001B[39mCLASS_NAME, \u001B[38;5;124m\"\u001B[39m\u001B[38;5;124mbtn__primary--large\u001B[39m\u001B[38;5;124m\"\u001B[39m)\n\u001B[0;32m     29\u001B[0m signin_btn\u001B[38;5;241m.\u001B[39mclick()\n\u001B[1;32m---> 31\u001B[0m \u001B[43mfilter_results\u001B[49m\u001B[43m(\u001B[49m\u001B[43mchrome_driver\u001B[49m\u001B[43m)\u001B[49m\n",
      "Input \u001B[1;32mIn [9]\u001B[0m, in \u001B[0;36mfilter_results\u001B[1;34m(chrome_driver)\u001B[0m\n\u001B[0;32m     19\u001B[0m sleep(\u001B[38;5;241m2\u001B[39m)\n\u001B[0;32m     21\u001B[0m \u001B[38;5;66;03m# TODO Click the Easy Apply switch button\u001B[39;00m\n\u001B[1;32m---> 22\u001B[0m easy_apply_switch_btn \u001B[38;5;241m=\u001B[39m \u001B[43mchrome_driver\u001B[49m\u001B[38;5;241;43m.\u001B[39;49m\u001B[43mfind_element\u001B[49m\u001B[43m(\u001B[49m\u001B[43mBy\u001B[49m\u001B[38;5;241;43m.\u001B[39;49m\u001B[43mXPATH\u001B[49m\u001B[43m,\u001B[49m\u001B[43m \u001B[49m\u001B[38;5;124;43m\"\u001B[39;49m\u001B[38;5;124;43m/html/body/div[3]/div/div/div[2]/ul/li[8]/fieldset/div/div\u001B[39;49m\u001B[38;5;124;43m\"\u001B[39;49m\u001B[43m)\u001B[49m\n\u001B[0;32m     23\u001B[0m easy_apply_switch_btn\u001B[38;5;241m.\u001B[39mclick()\n\u001B[0;32m     24\u001B[0m sleep(\u001B[38;5;241m2\u001B[39m)\n",
      "File \u001B[1;32mc:\\users\\vin muchiri\\onedrive\\python programming\\venv\\lib\\site-packages\\selenium\\webdriver\\remote\\webdriver.py:856\u001B[0m, in \u001B[0;36mWebDriver.find_element\u001B[1;34m(self, by, value)\u001B[0m\n\u001B[0;32m    853\u001B[0m     by \u001B[38;5;241m=\u001B[39m By\u001B[38;5;241m.\u001B[39mCSS_SELECTOR\n\u001B[0;32m    854\u001B[0m     value \u001B[38;5;241m=\u001B[39m \u001B[38;5;124m'\u001B[39m\u001B[38;5;124m[name=\u001B[39m\u001B[38;5;124m\"\u001B[39m\u001B[38;5;132;01m%s\u001B[39;00m\u001B[38;5;124m\"\u001B[39m\u001B[38;5;124m]\u001B[39m\u001B[38;5;124m'\u001B[39m \u001B[38;5;241m%\u001B[39m value\n\u001B[1;32m--> 856\u001B[0m \u001B[38;5;28;01mreturn\u001B[39;00m \u001B[38;5;28;43mself\u001B[39;49m\u001B[38;5;241;43m.\u001B[39;49m\u001B[43mexecute\u001B[49m\u001B[43m(\u001B[49m\u001B[43mCommand\u001B[49m\u001B[38;5;241;43m.\u001B[39;49m\u001B[43mFIND_ELEMENT\u001B[49m\u001B[43m,\u001B[49m\u001B[43m \u001B[49m\u001B[43m{\u001B[49m\n\u001B[0;32m    857\u001B[0m \u001B[43m    \u001B[49m\u001B[38;5;124;43m'\u001B[39;49m\u001B[38;5;124;43musing\u001B[39;49m\u001B[38;5;124;43m'\u001B[39;49m\u001B[43m:\u001B[49m\u001B[43m \u001B[49m\u001B[43mby\u001B[49m\u001B[43m,\u001B[49m\n\u001B[0;32m    858\u001B[0m \u001B[43m    \u001B[49m\u001B[38;5;124;43m'\u001B[39;49m\u001B[38;5;124;43mvalue\u001B[39;49m\u001B[38;5;124;43m'\u001B[39;49m\u001B[43m:\u001B[49m\u001B[43m \u001B[49m\u001B[43mvalue\u001B[49m\u001B[43m}\u001B[49m\u001B[43m)\u001B[49m[\u001B[38;5;124m'\u001B[39m\u001B[38;5;124mvalue\u001B[39m\u001B[38;5;124m'\u001B[39m]\n",
      "File \u001B[1;32mc:\\users\\vin muchiri\\onedrive\\python programming\\venv\\lib\\site-packages\\selenium\\webdriver\\remote\\webdriver.py:429\u001B[0m, in \u001B[0;36mWebDriver.execute\u001B[1;34m(self, driver_command, params)\u001B[0m\n\u001B[0;32m    427\u001B[0m response \u001B[38;5;241m=\u001B[39m \u001B[38;5;28mself\u001B[39m\u001B[38;5;241m.\u001B[39mcommand_executor\u001B[38;5;241m.\u001B[39mexecute(driver_command, params)\n\u001B[0;32m    428\u001B[0m \u001B[38;5;28;01mif\u001B[39;00m response:\n\u001B[1;32m--> 429\u001B[0m     \u001B[38;5;28;43mself\u001B[39;49m\u001B[38;5;241;43m.\u001B[39;49m\u001B[43merror_handler\u001B[49m\u001B[38;5;241;43m.\u001B[39;49m\u001B[43mcheck_response\u001B[49m\u001B[43m(\u001B[49m\u001B[43mresponse\u001B[49m\u001B[43m)\u001B[49m\n\u001B[0;32m    430\u001B[0m     response[\u001B[38;5;124m'\u001B[39m\u001B[38;5;124mvalue\u001B[39m\u001B[38;5;124m'\u001B[39m] \u001B[38;5;241m=\u001B[39m \u001B[38;5;28mself\u001B[39m\u001B[38;5;241m.\u001B[39m_unwrap_value(\n\u001B[0;32m    431\u001B[0m         response\u001B[38;5;241m.\u001B[39mget(\u001B[38;5;124m'\u001B[39m\u001B[38;5;124mvalue\u001B[39m\u001B[38;5;124m'\u001B[39m, \u001B[38;5;28;01mNone\u001B[39;00m))\n\u001B[0;32m    432\u001B[0m     \u001B[38;5;28;01mreturn\u001B[39;00m response\n",
      "File \u001B[1;32mc:\\users\\vin muchiri\\onedrive\\python programming\\venv\\lib\\site-packages\\selenium\\webdriver\\remote\\errorhandler.py:243\u001B[0m, in \u001B[0;36mErrorHandler.check_response\u001B[1;34m(self, response)\u001B[0m\n\u001B[0;32m    241\u001B[0m         alert_text \u001B[38;5;241m=\u001B[39m value[\u001B[38;5;124m'\u001B[39m\u001B[38;5;124malert\u001B[39m\u001B[38;5;124m'\u001B[39m]\u001B[38;5;241m.\u001B[39mget(\u001B[38;5;124m'\u001B[39m\u001B[38;5;124mtext\u001B[39m\u001B[38;5;124m'\u001B[39m)\n\u001B[0;32m    242\u001B[0m     \u001B[38;5;28;01mraise\u001B[39;00m exception_class(message, screen, stacktrace, alert_text)  \u001B[38;5;66;03m# type: ignore[call-arg]  # mypy is not smart enough here\u001B[39;00m\n\u001B[1;32m--> 243\u001B[0m \u001B[38;5;28;01mraise\u001B[39;00m exception_class(message, screen, stacktrace)\n",
      "\u001B[1;31mNoSuchElementException\u001B[0m: Message: no such element: Unable to locate element: {\"method\":\"xpath\",\"selector\":\"/html/body/div[3]/div/div/div[2]/ul/li[8]/fieldset/div/div\"}\n  (Session info: chrome=109.0.5414.75)\nStacktrace:\nBacktrace:\n\t(No symbol) [0x0099F243]\n\t(No symbol) [0x00927FD1]\n\t(No symbol) [0x0081D04D]\n\t(No symbol) [0x0084C0B0]\n\t(No symbol) [0x0084C22B]\n\t(No symbol) [0x0087E612]\n\t(No symbol) [0x008685D4]\n\t(No symbol) [0x0087C9EB]\n\t(No symbol) [0x00868386]\n\t(No symbol) [0x0084163C]\n\t(No symbol) [0x0084269D]\n\tGetHandleVerifier [0x00C39A22+2655074]\n\tGetHandleVerifier [0x00C2CA24+2601828]\n\tGetHandleVerifier [0x00A48C0A+619850]\n\tGetHandleVerifier [0x00A47830+614768]\n\t(No symbol) [0x009305FC]\n\t(No symbol) [0x00935968]\n\t(No symbol) [0x00935A55]\n\t(No symbol) [0x0094051B]\n\tBaseThreadInitThunk [0x76486939+25]\n\tRtlGetFullPathName_UEx [0x77778FD2+1218]\n\tRtlGetFullPathName_UEx [0x77778F9D+1165]\n"
     ]
    }
   ],
   "source": [
    "webdriver_path = \"../chromedriver 108.0.5359.71/chromedriver.exe\"\n",
    "webpage_url = 'https://www.linkedin.com/jobs/search/?currentJobId=3412724904&geoId=101339379&keywords=sales&location=Nairobi%20County%2C%20Kenya&refresh=true'\n",
    "\n",
    "chrome_driver = webdriver.Chrome(executable_path=webdriver_path)\n",
    "\n",
    "MY_EMAIL = 'vincentmuchiri1@gmail.com'\n",
    "MY_PASS = 'Virt84788676!'\n",
    "\n",
    "# TODO Get the start url\n",
    "chrome_driver.get(url=webpage_url)\n",
    "\n",
    "# Find the login button\n",
    "login_btn = chrome_driver.find_element(By.LINK_TEXT, \"Sign in\")\n",
    "\n",
    "# TODO Click the Log In button\n",
    "login_btn.click()\n",
    "\n",
    "# TODO Find, select and autofill the email\n",
    "email_input = chrome_driver.find_element(By.NAME, \"session_key\")\n",
    "email_input.send_keys(MY_EMAIL)\n",
    "\n",
    "# TODO Find, select and autofill the password\n",
    "pass_input = chrome_driver.find_element(By.NAME, \"session_password\")\n",
    "pass_input.send_keys(MY_PASS)\n",
    "\n",
    "# TODO Click the Sign in button to enter the job search page\n",
    "# signin_btn = chrome_driver.find_element(By.LINK_TEXT, \"Sign in\")\n",
    "signin_btn = chrome_driver.find_element(By.CLASS_NAME, \"btn__primary--large\")\n",
    "signin_btn.click()\n",
    "\n",
    "filter_results(chrome_driver)\n"
   ],
   "metadata": {
    "collapsed": false,
    "pycharm": {
     "name": "#%%\n"
    }
   }
  }
 ],
 "metadata": {
  "kernelspec": {
   "display_name": "Python 3",
   "language": "python",
   "name": "python3"
  },
  "language_info": {
   "codemirror_mode": {
    "name": "ipython",
    "version": 2
   },
   "file_extension": ".py",
   "mimetype": "text/x-python",
   "name": "python",
   "nbconvert_exporter": "python",
   "pygments_lexer": "ipython2",
   "version": "2.7.6"
  }
 },
 "nbformat": 4,
 "nbformat_minor": 0
}