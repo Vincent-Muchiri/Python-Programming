{
 "cells": [
  {
   "cell_type": "code",
   "execution_count": 1,
   "outputs": [],
   "source": [
    "from selenium import webdriver\n",
    "from selenium.webdriver.common.by import By\n",
    "from selenium.webdriver.common.keys import Keys\n",
    "from selenium.common.exceptions import NoSuchElementException, ElementClickInterceptedException\n",
    "\n",
    "from selenium.common.exceptions import StaleElementReferenceException\n",
    "from selenium.webdriver.support.ui import WebDriverWait\n",
    "from selenium.webdriver.support import expected_conditions\n",
    "ignored_exceptions = (NoSuchElementException, StaleElementReferenceException)\n",
    "\n",
    "from time import sleep"
   ],
   "metadata": {
    "collapsed": false,
    "pycharm": {
     "name": "#%%\n"
    }
   }
  },
  {
   "cell_type": "code",
   "execution_count": 2,
   "metadata": {
    "collapsed": true,
    "pycharm": {
     "name": "#%%\n"
    }
   },
   "outputs": [
    {
     "name": "stdout",
     "output_type": "stream",
     "text": [
      "Global Graduate Trainee 2023 - Kenya\n",
      "Pricing Manager Graduate\n",
      "Kenya Engineering Graduates\n",
      "GRADUATE SOFTWARE ENGINEER - Dubai, UAE\n"
     ]
    }
   ],
   "source": [
    "title_list = ['Global Graduate Trainee 2023 - Kenya', 'Pricing Manager Graduate', 'Kenya Engineering Graduates', 'GRADUATE SOFTWARE ENGINEER - Dubai, UAE', 'Snr Registr&Identity Mgmt Off', 'Application Specialist', 'Kubernetes and container ops lead']\n",
    "\n",
    "for title in title_list:\n",
    "    if \"graduate\" in title.lower() or \"engineer\" in title.lower():\n",
    "        print(title)"
   ]
  },
  {
   "cell_type": "code",
   "execution_count": 3,
   "outputs": [
    {
     "name": "stdout",
     "output_type": "stream",
     "text": [
      "graduate%20trainee\n",
      "['graduate', 'trainee']\n"
     ]
    }
   ],
   "source": [
    "str1 = \"Graduate, trainee\"\n",
    "str1 = str1.lower()\n",
    "str1 = str1.replace(\" \", \"\").replace(\",\", \"%20\").lower()\n",
    "print(str1)\n",
    "\n",
    "str1_lst = str1.split(\"%20\")\n",
    "print(str1_lst)"
   ],
   "metadata": {
    "collapsed": false,
    "pycharm": {
     "name": "#%%\n"
    }
   }
  },
  {
   "cell_type": "code",
   "execution_count": 4,
   "outputs": [
    {
     "name": "stdout",
     "output_type": "stream",
     "text": [
      "['engineering', 'graduate', 'intern']\n"
     ]
    }
   ],
   "source": [
    "str1 = \"Engineering graduate, engineering intern\"\n",
    "e = []\n",
    "q = str1.split(\",\")\n",
    "for i in q:\n",
    "    w = i.split(\" \")\n",
    "    for d in w:\n",
    "        if d != \"\" and d.lower() not in e:\n",
    "            e.append(d.lower())\n",
    "\n",
    "print(e)"
   ],
   "metadata": {
    "collapsed": false,
    "pycharm": {
     "name": "#%%\n"
    }
   }
  },
  {
   "cell_type": "code",
   "execution_count": 5,
   "outputs": [
    {
     "name": "stdout",
     "output_type": "stream",
     "text": [
      "(['engineering', 'graduate', 'trainee'], 'engineering%20graduate%2C%20engineering%20trainee%2C%20graduate%20trainee')\n"
     ]
    }
   ],
   "source": [
    "query_str = \"Engineering graduate, engineering trainee, graduate trainee\"\n",
    "keyword_list = []\n",
    "query_str = query_str.lower()\n",
    "search_str = query_str.replace(\" \", \"%20\").replace(\",\", \"%2C\")\n",
    "query_list = query_str.split(\",\")\n",
    "for keyword_str in query_list:\n",
    "    key_list = keyword_str.strip(\" \").split(\" \")\n",
    "    # print(key_list)\n",
    "    for key in key_list:\n",
    "        if key not in keyword_list:\n",
    "            keyword_list.append(key)\n",
    "\n",
    "keyword_tuple = (keyword_list, search_str)\n",
    "print(keyword_tuple)"
   ],
   "metadata": {
    "collapsed": false,
    "pycharm": {
     "name": "#%%\n"
    }
   }
  },
  {
   "cell_type": "markdown",
   "source": [
    "# Filter the results"
   ],
   "metadata": {
    "collapsed": false,
    "pycharm": {
     "name": "#%% md\n"
    }
   }
  },
  {
   "cell_type": "code",
   "execution_count": 6,
   "outputs": [],
   "source": [
    "def filter_results(chrome_driver):\n",
    "\n",
    "    # TODO Filter the results with Easy Apply option only\n",
    "    # To do this, you can either maximize the screen or minimize the messages\n",
    "\n",
    "    # TODO Minimize the messages\n",
    "    icon_lst = chrome_driver.find_elements(By.TAG_NAME, \"li-icon\")\n",
    "    # icon_lst = WebDriverWait(chrome_driver, 5, ignored_exceptions=ignored_exceptions).until(expected_conditions.presence_of_element_located((By.TAG_NAME, \"li-icon\")))\n",
    "    for icon in icon_lst:\n",
    "        # This part throws an exception\n",
    "        icon_type = icon.get_attribute(\"type\")\n",
    "\n",
    "        if icon_type == \"chevron-down\":\n",
    "            icon.click()\n",
    "            break\n",
    "\n",
    "    sleep(0.5)\n",
    "\n",
    "    # TODO Open the filters\n",
    "    all_filters_btn = chrome_driver.find_element(By.XPATH, '/html/body/div[5]/div[3]/div[4]/section/div/section/div/div/div/div/div/button')\n",
    "    all_filters_btn.click()\n",
    "\n",
    "    sleep(2)\n",
    "\n",
    "    ################################################### TODO Click the Easy Apply switch button #############################################################\n",
    "\n",
    "    # This piece of code fails occasionally\n",
    "    # easy_apply_switch_btn = chrome_driver.find_element(By.XPATH, \"/html/body/div[3]/div/div/div[2]/ul/li[8]/fieldset/div/div\")\n",
    "    # easy_apply_switch_btn.click()\n",
    "    # sleep(2)\n",
    "\n",
    "    # Selecting all the input types and clicking them doesn't work\n",
    "    # switch_btn_lst = chrome_driver.find_elements(By.CLASS_NAME, \"input\")\n",
    "    #\n",
    "    # for switch_btn in switch_btn_lst:\n",
    "    #     try:\n",
    "    #         print(switch_btn)\n",
    "    #         switch_btn.click()\n",
    "    #     except ElementClickInterceptedException:\n",
    "    #         print(\"Couldn't click the switch button\")\n",
    "    #     else:\n",
    "    #         print(\"Switch clicked\")\n",
    "    #     finally:\n",
    "    #         print(\"\\n\\n\")\n",
    "    #     sleep(3)\n",
    "\n",
    "    # This doesn't work either\n",
    "    # TODO Select all the input tags\n",
    "    # switch_btn_lst = chrome_driver.find_elements(By.TAG_NAME, 'input')\n",
    "    # for switch_btn in switch_btn_lst:\n",
    "    #     att_role = switch_btn.get_attribute('role')\n",
    "    #     if att_role == \"switch\":\n",
    "    #         print(att_role)\n",
    "    #         try:\n",
    "    #             switch_btn.click()\n",
    "    #         except ElementClickInterceptedException:\n",
    "    #             print(\"Couldn't click the switch button\")\n",
    "    #         else:\n",
    "    #             print(\"Switch button clicked\")\n",
    "    #         finally:\n",
    "    #             sleep(2)\n",
    "\n",
    "    # This part works, for now\n",
    "    # TODO Create a list of element fieldset\n",
    "    fieldset_parent_lst = chrome_driver.find_elements(By.TAG_NAME, \"fieldset\")\n",
    "    # print(len(fieldset_parent_lst))\n",
    "    for fieldset_parent in fieldset_parent_lst:\n",
    "        # TODO Get the child element 'legend' under 'fieldset'\n",
    "        legend_child_tag = fieldset_parent.find_element(By.TAG_NAME, \"legend\")\n",
    "        # print(legend_child_tag.text)\n",
    "        # TODO Check whether 'apply' is in the child element\n",
    "        if \"apply\" in legend_child_tag.text.lower():\n",
    "            # TODO Get the toggle button child inside the parent\n",
    "            toggle_btn_child = fieldset_parent.find_element(By.TAG_NAME, \"div\")\n",
    "            toggle_btn_child.click()\n",
    "            break\n",
    "\n",
    "    # This closes the window but doesn't apply the changes\n",
    "    # TODO Close the filters windows\n",
    "    # filter_icon_lst = chrome_driver.find_elements(By.TAG_NAME, \"li-icon\")\n",
    "    # for icon in filter_icon_lst:\n",
    "    #     icon_type = icon.get_attribute(\"type\")\n",
    "    #     if icon_type == \"cancel-icon\":\n",
    "    #         icon.click()\n",
    "    #         break\n",
    "\n",
    "\n",
    "\n",
    "\n",
    "    # TODO Apply the results by clicking 'Show the results'\n",
    "    # Fix the StaleElementReferenceException error that occurs sometimes\n",
    "    # Sleeping or changing the screen size doesn't change this\n",
    "    # sleep(2)\n",
    "    \"https://stackoverflow.com/questions/27003423/staleelementreferenceexception-on-python-selenium\"\n",
    "    button_list = chrome_driver.find_elements(By.TAG_NAME, \"button\")\n",
    "    for button_tag_parent in button_list:\n",
    "        # TODO This part throws an exception\n",
    "        span_tag_child_list = button_tag_parent.find_elements(By.TAG_NAME, \"span\")\n",
    "        span_tag_child_list = WebDriverWait(chrome_driver, 5, ignored_exceptions=ignored_exceptions).until(expected_conditions.presence_of_element_located((By.TAG_NAME, \"span\")))\n",
    "\n",
    "        if len(span_tag_child_list) == 1 and \"results\" in span_tag_child_list[0].text.lower() and \"show\" in span_tag_child_list[0].text.lower():\n",
    "            print(span_tag_child_list[0].text.lower())\n",
    "            button_tag_parent.click()\n",
    "            break\n",
    "\n",
    "    sleep(2)\n",
    "\n",
    "\n"
   ],
   "metadata": {
    "collapsed": false,
    "pycharm": {
     "name": "#%%\n"
    }
   }
  },
  {
   "cell_type": "code",
   "execution_count": 7,
   "outputs": [
    {
     "name": "stderr",
     "output_type": "stream",
     "text": [
      "C:\\Users\\Vin Muchiri\\AppData\\Local\\Temp\\ipykernel_14592\\2421881896.py:4: DeprecationWarning: executable_path has been deprecated, please pass in a Service object\n",
      "  chrome_driver = webdriver.Chrome(executable_path=webdriver_path)\n"
     ]
    },
    {
     "ename": "TypeError",
     "evalue": "object of type 'WebElement' has no len()",
     "output_type": "error",
     "traceback": [
      "\u001B[1;31m---------------------------------------------------------------------------\u001B[0m",
      "\u001B[1;31mTypeError\u001B[0m                                 Traceback (most recent call last)",
      "Input \u001B[1;32mIn [7]\u001B[0m, in \u001B[0;36m<cell line: 31>\u001B[1;34m()\u001B[0m\n\u001B[0;32m     28\u001B[0m signin_btn \u001B[38;5;241m=\u001B[39m chrome_driver\u001B[38;5;241m.\u001B[39mfind_element(By\u001B[38;5;241m.\u001B[39mCLASS_NAME, \u001B[38;5;124m\"\u001B[39m\u001B[38;5;124mbtn__primary--large\u001B[39m\u001B[38;5;124m\"\u001B[39m)\n\u001B[0;32m     29\u001B[0m signin_btn\u001B[38;5;241m.\u001B[39mclick()\n\u001B[1;32m---> 31\u001B[0m \u001B[43mfilter_results\u001B[49m\u001B[43m(\u001B[49m\u001B[43mchrome_driver\u001B[49m\u001B[43m)\u001B[49m\n",
      "Input \u001B[1;32mIn [6]\u001B[0m, in \u001B[0;36mfilter_results\u001B[1;34m(chrome_driver)\u001B[0m\n\u001B[0;32m     98\u001B[0m span_tag_child_list \u001B[38;5;241m=\u001B[39m button_tag_parent\u001B[38;5;241m.\u001B[39mfind_elements(By\u001B[38;5;241m.\u001B[39mTAG_NAME, \u001B[38;5;124m\"\u001B[39m\u001B[38;5;124mspan\u001B[39m\u001B[38;5;124m\"\u001B[39m)\n\u001B[0;32m     99\u001B[0m span_tag_child_list \u001B[38;5;241m=\u001B[39m WebDriverWait(chrome_driver, \u001B[38;5;241m5\u001B[39m, ignored_exceptions\u001B[38;5;241m=\u001B[39mignored_exceptions)\u001B[38;5;241m.\u001B[39muntil(expected_conditions\u001B[38;5;241m.\u001B[39mpresence_of_element_located((By\u001B[38;5;241m.\u001B[39mTAG_NAME, \u001B[38;5;124m\"\u001B[39m\u001B[38;5;124mspan\u001B[39m\u001B[38;5;124m\"\u001B[39m)))\n\u001B[1;32m--> 101\u001B[0m \u001B[38;5;28;01mif\u001B[39;00m \u001B[38;5;28;43mlen\u001B[39;49m\u001B[43m(\u001B[49m\u001B[43mspan_tag_child_list\u001B[49m\u001B[43m)\u001B[49m \u001B[38;5;241m==\u001B[39m \u001B[38;5;241m1\u001B[39m \u001B[38;5;129;01mand\u001B[39;00m \u001B[38;5;124m\"\u001B[39m\u001B[38;5;124mresults\u001B[39m\u001B[38;5;124m\"\u001B[39m \u001B[38;5;129;01min\u001B[39;00m span_tag_child_list[\u001B[38;5;241m0\u001B[39m]\u001B[38;5;241m.\u001B[39mtext\u001B[38;5;241m.\u001B[39mlower() \u001B[38;5;129;01mand\u001B[39;00m \u001B[38;5;124m\"\u001B[39m\u001B[38;5;124mshow\u001B[39m\u001B[38;5;124m\"\u001B[39m \u001B[38;5;129;01min\u001B[39;00m span_tag_child_list[\u001B[38;5;241m0\u001B[39m]\u001B[38;5;241m.\u001B[39mtext\u001B[38;5;241m.\u001B[39mlower():\n\u001B[0;32m    102\u001B[0m     \u001B[38;5;28mprint\u001B[39m(span_tag_child_list[\u001B[38;5;241m0\u001B[39m]\u001B[38;5;241m.\u001B[39mtext\u001B[38;5;241m.\u001B[39mlower())\n\u001B[0;32m    103\u001B[0m     button_tag_parent\u001B[38;5;241m.\u001B[39mclick()\n",
      "\u001B[1;31mTypeError\u001B[0m: object of type 'WebElement' has no len()"
     ]
    }
   ],
   "source": [
    "webdriver_path = \"../chromedriver 108.0.5359.71/chromedriver.exe\"\n",
    "webpage_url = 'https://www.linkedin.com/jobs/search/?currentJobId=3412724904&geoId=101339379&keywords=sales&location=Nairobi%20County%2C%20Kenya&refresh=true'\n",
    "\n",
    "chrome_driver = webdriver.Chrome(executable_path=webdriver_path)\n",
    "\n",
    "MY_EMAIL = 'vincentmuchiri1@gmail.com'\n",
    "MY_PASS = 'Virt84788676!'\n",
    "\n",
    "# TODO Get the start url\n",
    "chrome_driver.get(url=webpage_url)\n",
    "\n",
    "# Find the login button\n",
    "login_btn = chrome_driver.find_element(By.LINK_TEXT, \"Sign in\")\n",
    "\n",
    "# TODO Click the Log In button\n",
    "login_btn.click()\n",
    "\n",
    "# TODO Find, select and autofill the email\n",
    "email_input = chrome_driver.find_element(By.NAME, \"session_key\")\n",
    "email_input.send_keys(MY_EMAIL)\n",
    "\n",
    "# TODO Find, select and autofill the password\n",
    "pass_input = chrome_driver.find_element(By.NAME, \"session_password\")\n",
    "pass_input.send_keys(MY_PASS)\n",
    "\n",
    "# TODO Click the Sign in button to enter the job search page\n",
    "# signin_btn = chrome_driver.find_element(By.LINK_TEXT, \"Sign in\")\n",
    "signin_btn = chrome_driver.find_element(By.CLASS_NAME, \"btn__primary--large\")\n",
    "signin_btn.click()\n",
    "\n",
    "filter_results(chrome_driver)\n"
   ],
   "metadata": {
    "collapsed": false,
    "pycharm": {
     "name": "#%%\n"
    }
   }
  },
  {
   "cell_type": "code",
   "execution_count": null,
   "outputs": [],
   "source": [
    "filter_results(chrome_driver)\n",
    "\n",
    "def some():\n",
    "    # TODO Filter the results with Easy Apply option only\n",
    "    # To do this, you can either maximize the screen or minimize the messages\n",
    "\n",
    "    # TODO Minimize the messages\n",
    "    icon_lst = chrome_driver.find_elements(By.TAG_NAME, \"li-icon\")\n",
    "    for icon in icon_lst:\n",
    "        icon_type = icon.get_attribute(\"type\")\n",
    "        if icon_type == \"chevron-down\":\n",
    "            icon.click()\n",
    "            break\n",
    "\n",
    "    sleep(0.5)\n",
    "\n",
    "    # TODO Open the filters\n",
    "    all_filters_btn = chrome_driver.find_element(By.XPATH, '/html/body/div[5]/div[3]/div[4]/section/div/section/div/div/div/div/div/button')\n",
    "    all_filters_btn.click()\n",
    "\n",
    "    sleep(2)\n",
    "\n",
    "    ################################################### TODO Click the Easy Apply switch button #############################################################\n",
    "\n",
    "    # This piece of code fails occasionally\n",
    "    # easy_apply_switch_btn = chrome_driver.find_element(By.XPATH, \"/html/body/div[3]/div/div/div[2]/ul/li[8]/fieldset/div/div\")\n",
    "    # easy_apply_switch_btn.click()\n",
    "    # sleep(2)\n",
    "\n",
    "    # Selecting all the input types and clicking them doesn't work\n",
    "    # switch_btn_lst = chrome_driver.find_elements(By.CLASS_NAME, \"input\")\n",
    "    #\n",
    "    # for switch_btn in switch_btn_lst:\n",
    "    #     try:\n",
    "    #         print(switch_btn)\n",
    "    #         switch_btn.click()\n",
    "    #     except ElementClickInterceptedException:\n",
    "    #         print(\"Couldn't click the switch button\")\n",
    "    #     else:\n",
    "    #         print(\"Switch clicked\")\n",
    "    #     finally:\n",
    "    #         print(\"\\n\\n\")\n",
    "    #     sleep(3)\n",
    "\n",
    "    # This doesn't work either\n",
    "    # TODO Select all the input tags\n",
    "    # switch_btn_lst = chrome_driver.find_elements(By.TAG_NAME, 'input')\n",
    "    # for switch_btn in switch_btn_lst:\n",
    "    #     att_role = switch_btn.get_attribute('role')\n",
    "    #     if att_role == \"switch\":\n",
    "    #         print(att_role)\n",
    "    #         try:\n",
    "    #             switch_btn.click()\n",
    "    #         except ElementClickInterceptedException:\n",
    "    #             print(\"Couldn't click the switch button\")\n",
    "    #         else:\n",
    "    #             print(\"Switch button clicked\")\n",
    "    #         finally:\n",
    "    #             sleep(2)\n",
    "\n",
    "    # This part works, for now\n",
    "    # TODO Create a list of element fieldset\n",
    "    fieldset_parent_lst = chrome_driver.find_elements(By.TAG_NAME, \"fieldset\")\n",
    "    # print(len(fieldset_parent_lst))\n",
    "    for fieldset_parent in fieldset_parent_lst:\n",
    "        # TODO Get the child element 'legend' under 'fieldset'\n",
    "        legend_child_tag = fieldset_parent.find_element(By.TAG_NAME, \"legend\")\n",
    "        # print(legend_child_tag.text)\n",
    "        # TODO Check whether 'apply' is in the child element\n",
    "        if \"apply\" in legend_child_tag.text.lower():\n",
    "            # TODO Get the toggle button child inside the parent\n",
    "            toggle_btn_child = fieldset_parent.find_element(By.TAG_NAME, \"div\")\n",
    "            toggle_btn_child.click()\n",
    "            break\n",
    "\n",
    "    # This closes the window but doesn't apply the changes\n",
    "    # TODO Close the filters windows\n",
    "    # filter_icon_lst = chrome_driver.find_elements(By.TAG_NAME, \"li-icon\")\n",
    "    # for icon in filter_icon_lst:\n",
    "    #     icon_type = icon.get_attribute(\"type\")\n",
    "    #     if icon_type == \"cancel-icon\":\n",
    "    #         icon.click()\n",
    "    #         break\n",
    "\n",
    "    # TODO Apply the results by clicking 'Show the results'\n",
    "    button_list = chrome_driver.find_elements(By.TAG_NAME, \"button\")\n",
    "    for button_tag_parent in button_list:\n",
    "        span_tag_child_list = button_tag_parent.find_elements(By.TAG_NAME, \"span\")\n",
    "        if len(span_tag_child_list) == 1 and \"results\" in span_tag_child_list[0].text.lower() and \"show\" in span_tag_child_list[0].text.lower():\n",
    "            button_tag_parent.click()\n",
    "            break\n",
    "\n",
    "    sleep(2)\n",
    "\n"
   ],
   "metadata": {
    "collapsed": false,
    "pycharm": {
     "name": "#%%\n"
    }
   }
  }
 ],
 "metadata": {
  "kernelspec": {
   "display_name": "Python 3",
   "language": "python",
   "name": "python3"
  },
  "language_info": {
   "codemirror_mode": {
    "name": "ipython",
    "version": 2
   },
   "file_extension": ".py",
   "mimetype": "text/x-python",
   "name": "python",
   "nbconvert_exporter": "python",
   "pygments_lexer": "ipython2",
   "version": "2.7.6"
  }
 },
 "nbformat": 4,
 "nbformat_minor": 0
}